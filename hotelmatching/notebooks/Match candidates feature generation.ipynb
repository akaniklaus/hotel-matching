{
 "cells": [
  {
   "cell_type": "code",
   "execution_count": 99,
   "metadata": {
    "collapsed": false
   },
   "outputs": [
    {
     "name": "stdout",
     "output_type": "stream",
     "text": [
      "The autoreload extension is already loaded. To reload it, use:\n",
      "  %reload_ext autoreload\n"
     ]
    }
   ],
   "source": [
    "%load_ext autoreload\n",
    "%autoreload 2\n",
    "\n",
    "from excel_matches_livingscores import *"
   ]
  },
  {
   "cell_type": "markdown",
   "metadata": {},
   "source": [
    "# 1. load matches"
   ]
  },
  {
   "cell_type": "code",
   "execution_count": 100,
   "metadata": {
    "collapsed": false
   },
   "outputs": [
    {
     "name": "stdout",
     "output_type": "stream",
     "text": [
      "91035\n"
     ]
    }
   ],
   "source": [
    "with open('matches_excel.json') as f:\n",
    "    matches = json.load(f)\n",
    "print(len(matches))"
   ]
  },
  {
   "cell_type": "markdown",
   "metadata": {},
   "source": [
    "# 2. Load Booking data"
   ]
  },
  {
   "cell_type": "code",
   "execution_count": 102,
   "metadata": {
    "collapsed": false
   },
   "outputs": [
    {
     "name": "stdout",
     "output_type": "stream",
     "text": [
      "Loading Booking hotels\n",
      "91035\n"
     ]
    }
   ],
   "source": [
    "print(\"Loading Booking hotels\")\n",
    "bkgh = load_booking(matches.values())\n",
    "print(len(bkgh))"
   ]
  },
  {
   "cell_type": "markdown",
   "metadata": {},
   "source": [
    "# 2.b Load Amadeus spreadsheet"
   ]
  },
  {
   "cell_type": "code",
   "execution_count": null,
   "metadata": {
    "collapsed": true
   },
   "outputs": [],
   "source": []
  },
  {
   "cell_type": "code",
   "execution_count": 103,
   "metadata": {
    "collapsed": false
   },
   "outputs": [
    {
     "name": "stdout",
     "output_type": "stream",
     "text": [
      "Loading Amadeus hotels\n",
      "Loaded 140709 hotels\n"
     ]
    }
   ],
   "source": [
    "print(\"Loading Amadeus hotels\")\n",
    "amdh_full = pd.read_excel('./Amadeus All Properties - FEB 2017 17022017 .xlsx', header=0, index_col='PROPERTY_CODE', skiprows=1)\n",
    "amdh = convert_amd_df_to_matching_format(amdh_full)\n",
    "amdh.amd_id = amdh.amd_id.values.astype(str)\n",
    "def pc_to_bkg(pc):\n",
    "    return matches.get(pc)\n",
    "amdh['bkg_id'] = amdh['amd_id'].apply(pc_to_bkg)\n",
    "\n",
    "namdh = len(amdh)\n",
    "print(\"Loaded %d hotels\" % namdh)"
   ]
  },
  {
   "cell_type": "markdown",
   "metadata": {},
   "source": [
    "# 3. Create matches DF and compute features"
   ]
  },
  {
   "cell_type": "code",
   "execution_count": 104,
   "metadata": {
    "collapsed": false
   },
   "outputs": [],
   "source": [
    "amdh.bkg_id = amdh.amd_id.apply(lambda i: matches[i] if i in matches else None)\n",
    "matches_df = amdh.join(bkgh, on='bkg_id', how='inner', rsuffix='_bkg')\n",
    "matches_df = matches_df[['amd_id', 'bkg_id_bkg',u'name', 'name_bkg', u'chain', 'chain_bkg', 'lat',  u'lng', u'lat_bkg', u'lng_bkg']]\n",
    "mdf = matches_df\n",
    "mdf.chain_bkg.fillna('', inplace=True)\n",
    "\n",
    "mdf.name = mdf.name.apply(normalize)\n",
    "mdf.name_bkg = mdf.name_bkg.apply(normalize)\n",
    "mdf.chain = mdf.chain.astype(unicode).apply(normalize)\n",
    "mdf.chain_bkg = mdf.chain_bkg.astype(unicode).apply(normalize)"
   ]
  },
  {
   "cell_type": "code",
   "execution_count": 105,
   "metadata": {
    "collapsed": true
   },
   "outputs": [],
   "source": [
    "s = mdf"
   ]
  },
  {
   "cell_type": "code",
   "execution_count": 106,
   "metadata": {
    "collapsed": true
   },
   "outputs": [],
   "source": [
    "s.chain.fillna('', inplace=True)\n",
    "s.chain_bkg.fillna('', inplace=True)\n",
    "s.name.fillna('', inplace=True)\n",
    "s.name_bkg.fillna('', inplace=True)"
   ]
  },
  {
   "cell_type": "code",
   "execution_count": 107,
   "metadata": {
    "collapsed": false
   },
   "outputs": [],
   "source": [
    "def _get_geo_dist(lat1, lng1, lat2, lng2):\n",
    "    \"\"\"\n",
    "        Geographic distance using Haversine formula\n",
    "    \"\"\"\n",
    "    r = 6371000  # Earth radius in meters\n",
    "    phi1 = math.radians(lat1)\n",
    "    phi2 = math.radians(lat2)\n",
    "    lambda1 = math.radians(lng1)\n",
    "    lambda2 = math.radians(lng2)\n",
    "#     haversin = lambda theta: (1 - math.cos(theta)) / 2.0\n",
    "    def haversin(theta):\n",
    "        return (1 - math.cos(theta)) / 2.0\n",
    "    h = haversin(phi2 - phi1) + math.cos(phi1) * math.cos(phi2) * \\\n",
    "        haversin(lambda2 - lambda1)\n",
    "    c = 2 * math.atan2(math.sqrt(h), math.sqrt(1 - h))\n",
    "    \n",
    "    return r * c\n",
    "\n",
    "vect_geo_dist = np.vectorize(_get_geo_dist)\n",
    "\n",
    "def row_name_sim(row):\n",
    "    return get_name_sim(row['name'], row['name_bkg'])\n",
    "\n",
    "def row_name_sim_sw(row):\n",
    "    return get_name_sim(row['name'], row['name_bkg'], swap_words=True)\n",
    "\n",
    "def row_chain_sim(row):\n",
    "    return get_name_sim(row['chain'], row['chain_bkg'])\n",
    "\n",
    "def row_chain_sim_sw(row):\n",
    "    return get_name_sim(row['chain'], row['chain_bkg'], swap_words=True)\n",
    "\n",
    "def row_name_included(row):\n",
    "    n = normalize(row['name']).replace(' ', '')    \n",
    "    nb = normalize(row['name_bkg']).replace(' ', '')\n",
    "    if not n:\n",
    "        return False\n",
    "    if not nb:\n",
    "        return False\n",
    "    return (n in nb) or (nb in n)    \n",
    "\n",
    "def row_chain_included(row):\n",
    "    n = normalize(row['chain']).replace(' ', '')    \n",
    "    nb = normalize(row['chain_bkg']).replace(' ', '')\n",
    "    if not n:\n",
    "        return False\n",
    "    if not nb:\n",
    "        return False\n",
    "    return (n in nb) or (nb in n)"
   ]
  },
  {
   "cell_type": "code",
   "execution_count": 108,
   "metadata": {
    "collapsed": false
   },
   "outputs": [],
   "source": [
    "s['dist'] = vect_geo_dist(s.lat, s.lng, s.lat_bkg, s.lng_bkg)\n",
    "s['name_sim'] = s.apply(row_name_sim, axis=1)\n",
    "s['name_sim_sw'] = s.apply(row_name_sim_sw, axis=1)\n",
    "s['chain_sim'] = s.apply(row_chain_sim, axis=1)\n",
    "s['chain_sim_sw'] = s.apply(row_chain_sim_sw, axis=1)"
   ]
  },
  {
   "cell_type": "code",
   "execution_count": 113,
   "metadata": {
    "collapsed": false
   },
   "outputs": [],
   "source": [
    "s['name_included'] = s.apply(row_name_included, axis=1)\n",
    "s['chain_included'] = s.apply(row_chain_included, axis=1)"
   ]
  },
  {
   "cell_type": "code",
   "execution_count": 114,
   "metadata": {
    "collapsed": false
   },
   "outputs": [
    {
     "data": {
      "text/html": [
       "<div>\n",
       "<table border=\"1\" class=\"dataframe\">\n",
       "  <thead>\n",
       "    <tr style=\"text-align: right;\">\n",
       "      <th></th>\n",
       "      <th>amd_id</th>\n",
       "      <th>bkg_id_bkg</th>\n",
       "      <th>name</th>\n",
       "      <th>name_bkg</th>\n",
       "      <th>chain</th>\n",
       "      <th>chain_bkg</th>\n",
       "      <th>lat</th>\n",
       "      <th>lng</th>\n",
       "      <th>lat_bkg</th>\n",
       "      <th>lng_bkg</th>\n",
       "      <th>dist</th>\n",
       "      <th>name_sim</th>\n",
       "      <th>name_sim_sw</th>\n",
       "      <th>chain_sim</th>\n",
       "      <th>chain_sim_sw</th>\n",
       "      <th>name_included</th>\n",
       "      <th>chain_included</th>\n",
       "    </tr>\n",
       "    <tr>\n",
       "      <th>PROPERTY_CODE</th>\n",
       "      <th></th>\n",
       "      <th></th>\n",
       "      <th></th>\n",
       "      <th></th>\n",
       "      <th></th>\n",
       "      <th></th>\n",
       "      <th></th>\n",
       "      <th></th>\n",
       "      <th></th>\n",
       "      <th></th>\n",
       "      <th></th>\n",
       "      <th></th>\n",
       "      <th></th>\n",
       "      <th></th>\n",
       "      <th></th>\n",
       "      <th></th>\n",
       "      <th></th>\n",
       "    </tr>\n",
       "  </thead>\n",
       "  <tbody>\n",
       "    <tr>\n",
       "      <th>YXBNAMHN</th>\n",
       "      <td>503279101.0</td>\n",
       "      <td>78347</td>\n",
       "      <td>21c museum nashville</td>\n",
       "      <td>omni nashville</td>\n",
       "      <td>synxis</td>\n",
       "      <td>omni</td>\n",
       "      <td>36.1654</td>\n",
       "      <td>-86.77745</td>\n",
       "      <td>36.157675</td>\n",
       "      <td>-86.775598</td>\n",
       "      <td>873.801206</td>\n",
       "      <td>0.647059</td>\n",
       "      <td>0.782609</td>\n",
       "      <td>0.4</td>\n",
       "      <td>0.4</td>\n",
       "      <td>False</td>\n",
       "      <td>False</td>\n",
       "    </tr>\n",
       "    <tr>\n",
       "      <th>HSSHABTA</th>\n",
       "      <td>700118631.0</td>\n",
       "      <td>375223</td>\n",
       "      <td>24k intl people square</td>\n",
       "      <td>jitai people s square branch</td>\n",
       "      <td>hrs gds</td>\n",
       "      <td></td>\n",
       "      <td>31.2273</td>\n",
       "      <td>121.46843</td>\n",
       "      <td>31.222894</td>\n",
       "      <td>121.462784</td>\n",
       "      <td>725.297065</td>\n",
       "      <td>0.640000</td>\n",
       "      <td>0.780488</td>\n",
       "      <td>0.0</td>\n",
       "      <td>1.0</td>\n",
       "      <td>False</td>\n",
       "      <td>False</td>\n",
       "    </tr>\n",
       "    <tr>\n",
       "      <th>WVICT179</th>\n",
       "      <td>700114177.0</td>\n",
       "      <td>490087</td>\n",
       "      <td>316</td>\n",
       "      <td>316</td>\n",
       "      <td>travelclick</td>\n",
       "      <td></td>\n",
       "      <td>37.701</td>\n",
       "      <td>-97.33467</td>\n",
       "      <td>37.700745</td>\n",
       "      <td>-97.334726</td>\n",
       "      <td>26.618877</td>\n",
       "      <td>1.000000</td>\n",
       "      <td>1.000000</td>\n",
       "      <td>0.0</td>\n",
       "      <td>1.0</td>\n",
       "      <td>True</td>\n",
       "      <td>False</td>\n",
       "    </tr>\n",
       "    <tr>\n",
       "      <th>ILSYRSHL</th>\n",
       "      <td>503483969.0</td>\n",
       "      <td>1674989</td>\n",
       "      <td>34 state luxury ste</td>\n",
       "      <td>34 state luxury ste skaneateles</td>\n",
       "      <td>innlink res svcs</td>\n",
       "      <td></td>\n",
       "      <td>42.9479</td>\n",
       "      <td>-76.42683</td>\n",
       "      <td>42.947930</td>\n",
       "      <td>-76.427168</td>\n",
       "      <td>27.567067</td>\n",
       "      <td>0.760000</td>\n",
       "      <td>1.000000</td>\n",
       "      <td>0.0</td>\n",
       "      <td>1.0</td>\n",
       "      <td>True</td>\n",
       "      <td>False</td>\n",
       "    </tr>\n",
       "    <tr>\n",
       "      <th>HSISTCPA</th>\n",
       "      <td>502664286.0</td>\n",
       "      <td>470576</td>\n",
       "      <td>35 tam</td>\n",
       "      <td>35 tam apart</td>\n",
       "      <td>hrs gds</td>\n",
       "      <td></td>\n",
       "      <td>41.0388</td>\n",
       "      <td>28.98274</td>\n",
       "      <td>41.038592</td>\n",
       "      <td>28.982985</td>\n",
       "      <td>32.619504</td>\n",
       "      <td>0.666667</td>\n",
       "      <td>1.000000</td>\n",
       "      <td>0.0</td>\n",
       "      <td>1.0</td>\n",
       "      <td>True</td>\n",
       "      <td>False</td>\n",
       "    </tr>\n",
       "  </tbody>\n",
       "</table>\n",
       "</div>"
      ],
      "text/plain": [
       "                    amd_id  bkg_id_bkg                    name  \\\n",
       "PROPERTY_CODE                                                    \n",
       "YXBNAMHN       503279101.0       78347    21c museum nashville   \n",
       "HSSHABTA       700118631.0      375223  24k intl people square   \n",
       "WVICT179       700114177.0      490087                     316   \n",
       "ILSYRSHL       503483969.0     1674989     34 state luxury ste   \n",
       "HSISTCPA       502664286.0      470576                  35 tam   \n",
       "\n",
       "                                      name_bkg             chain chain_bkg  \\\n",
       "PROPERTY_CODE                                                                \n",
       "YXBNAMHN                        omni nashville            synxis      omni   \n",
       "HSSHABTA          jitai people s square branch           hrs gds             \n",
       "WVICT179                                   316       travelclick             \n",
       "ILSYRSHL       34 state luxury ste skaneateles  innlink res svcs             \n",
       "HSISTCPA                          35 tam apart           hrs gds             \n",
       "\n",
       "                   lat        lng    lat_bkg     lng_bkg        dist  \\\n",
       "PROPERTY_CODE                                                          \n",
       "YXBNAMHN       36.1654  -86.77745  36.157675  -86.775598  873.801206   \n",
       "HSSHABTA       31.2273  121.46843  31.222894  121.462784  725.297065   \n",
       "WVICT179        37.701  -97.33467  37.700745  -97.334726   26.618877   \n",
       "ILSYRSHL       42.9479  -76.42683  42.947930  -76.427168   27.567067   \n",
       "HSISTCPA       41.0388   28.98274  41.038592   28.982985   32.619504   \n",
       "\n",
       "               name_sim  name_sim_sw  chain_sim  chain_sim_sw name_included  \\\n",
       "PROPERTY_CODE                                                                 \n",
       "YXBNAMHN       0.647059     0.782609        0.4           0.4         False   \n",
       "HSSHABTA       0.640000     0.780488        0.0           1.0         False   \n",
       "WVICT179       1.000000     1.000000        0.0           1.0          True   \n",
       "ILSYRSHL       0.760000     1.000000        0.0           1.0          True   \n",
       "HSISTCPA       0.666667     1.000000        0.0           1.0          True   \n",
       "\n",
       "              chain_included  \n",
       "PROPERTY_CODE                 \n",
       "YXBNAMHN               False  \n",
       "HSSHABTA               False  \n",
       "WVICT179               False  \n",
       "ILSYRSHL               False  \n",
       "HSISTCPA               False  "
      ]
     },
     "execution_count": 114,
     "metadata": {},
     "output_type": "execute_result"
    }
   ],
   "source": [
    "s.head()"
   ]
  },
  {
   "cell_type": "code",
   "execution_count": 115,
   "metadata": {
    "collapsed": false
   },
   "outputs": [],
   "source": [
    "s.to_pickle('matches_cands.pickle')"
   ]
  }
 ],
 "metadata": {
  "kernelspec": {
   "display_name": "Python 2",
   "language": "python",
   "name": "python2"
  },
  "language_info": {
   "codemirror_mode": {
    "name": "ipython",
    "version": 2
   },
   "file_extension": ".py",
   "mimetype": "text/x-python",
   "name": "python",
   "nbconvert_exporter": "python",
   "pygments_lexer": "ipython2",
   "version": "2.7.12"
  }
 },
 "nbformat": 4,
 "nbformat_minor": 1
}
