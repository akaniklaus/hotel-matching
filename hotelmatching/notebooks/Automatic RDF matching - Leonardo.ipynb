{
 "cells": [
  {
   "cell_type": "code",
   "execution_count": 27,
   "metadata": {},
   "outputs": [
    {
     "name": "stdout",
     "output_type": "stream",
     "text": [
      "The autoreload extension is already loaded. To reload it, use:\n",
      "  %reload_ext autoreload\n"
     ]
    }
   ],
   "source": [
    "%load_ext autoreload\n",
    "%autoreload 2\n",
    "\n",
    "from leo_bkg_matchids import *"
   ]
  },
  {
   "cell_type": "markdown",
   "metadata": {},
   "source": [
    "# 1. Load Leonardo & Booking hotels"
   ]
  },
  {
   "cell_type": "code",
   "execution_count": 2,
   "metadata": {},
   "outputs": [
    {
     "name": "stdout",
     "output_type": "stream",
     "text": [
      "Loading Leonardo hotels\n",
      "Loaded 70170 hotels\n",
      "Loading Booking hotels\n",
      "============\n",
      "Missing id:\n",
      "{u'chain': u'', u'title': u'', u'hotel_id': None, u'lat': u'', u'lng': u'', u'_id': ObjectId('5936fabbdccdc4145c14c5e6')}\n",
      "Loaded 884718 hotels\n",
      "70170 Leonardo hotels left to match to 884718 Booking hotels\n",
      "Building Geo Index\n"
     ]
    }
   ],
   "source": [
    "leoh, bkgh, matches, geo_index, nleoh = initialize_matching(True)"
   ]
  },
  {
   "cell_type": "markdown",
   "metadata": {},
   "source": [
    "# 2. Generate candidates"
   ]
  },
  {
   "cell_type": "code",
   "execution_count": 3,
   "metadata": {},
   "outputs": [
    {
     "name": "stdout",
     "output_type": "stream",
     "text": [
      "100.00 %\n"
     ]
    }
   ],
   "source": [
    "candidates = extract_candidates(leoh[:1000], geo_index, 6, 0.7, nleoh)"
   ]
  },
  {
   "cell_type": "code",
   "execution_count": 4,
   "metadata": {},
   "outputs": [
    {
     "data": {
      "text/plain": [
       "981"
      ]
     },
     "execution_count": 4,
     "metadata": {},
     "output_type": "execute_result"
    }
   ],
   "source": [
    "len(candidates)"
   ]
  },
  {
   "cell_type": "code",
   "execution_count": 6,
   "metadata": {},
   "outputs": [
    {
     "data": {
      "text/plain": [
       "('1051736',\n",
       " [{'bkg_id': 1347394,\n",
       "   'chain': '',\n",
       "   'chain_bkg': None,\n",
       "   'dist': 3.7073948414551023,\n",
       "   'leo_id': '1051736',\n",
       "   'name': u'Best Western Anaheim Sportstown',\n",
       "   'name_bkg': u'Anaheim Beauty',\n",
       "   'name_sim': 0.45,\n",
       "   'name_sim_sw': 0.8461538461538461},\n",
       "  {'bkg_id': 1788838,\n",
       "   'chain': '',\n",
       "   'chain_bkg': None,\n",
       "   'dist': 3.07506313120018,\n",
       "   'leo_id': '1051736',\n",
       "   'name': u'Best Western Anaheim Sportstown',\n",
       "   'name_bkg': u'BEST WESTERN Plus Meridian Inn & Suites Anaheim-Orange',\n",
       "   'name_sim': 0.5428571428571428,\n",
       "   'name_sim_sw': 0.8363636363636363},\n",
       "  {'bkg_id': 513858,\n",
       "   'chain': '',\n",
       "   'chain_bkg': None,\n",
       "   'dist': 2.2639554691890225,\n",
       "   'leo_id': '1051736',\n",
       "   'name': u'Best Western Anaheim Sportstown',\n",
       "   'name_bkg': u'BEST WESTERN PLUS Anaheim Inn',\n",
       "   'name_sim': 0.68,\n",
       "   'name_sim_sw': 0.8},\n",
       "  {'bkg_id': 43739,\n",
       "   'chain': '',\n",
       "   'chain_bkg': None,\n",
       "   'dist': 2.529163795274538,\n",
       "   'leo_id': '1051736',\n",
       "   'name': u'Best Western Anaheim Sportstown',\n",
       "   'name_bkg': u'Hilton Anaheim',\n",
       "   'name_sim': 0.5263157894736842,\n",
       "   'name_sim_sw': 0.75},\n",
       "  {'bkg_id': 522242,\n",
       "   'chain': '',\n",
       "   'chain_bkg': None,\n",
       "   'dist': 2.19166900857793,\n",
       "   'leo_id': '1051736',\n",
       "   'name': u'Best Western Anaheim Sportstown',\n",
       "   'name_bkg': u'Anaheim Hotel',\n",
       "   'name_sim': 0.42424242424242425,\n",
       "   'name_sim_sw': 0.72},\n",
       "  {'bkg_id': 180686,\n",
       "   'chain': '',\n",
       "   'chain_bkg': None,\n",
       "   'dist': 1.252829083049416,\n",
       "   'leo_id': '1051736',\n",
       "   'name': u'Best Western Anaheim Sportstown',\n",
       "   'name_bkg': u'Ayres Hotel Anaheim',\n",
       "   'name_sim': 0.5128205128205128,\n",
       "   'name_sim_sw': 0.7096774193548387},\n",
       "  {'bkg_id': 184575,\n",
       "   'chain': '',\n",
       "   'chain_bkg': None,\n",
       "   'dist': 2.021957033471194,\n",
       "   'leo_id': '1051736',\n",
       "   'name': u'Best Western Anaheim Sportstown',\n",
       "   'name_bkg': u'Americas Best Value Inn & Suites Anaheim',\n",
       "   'name_sim': 0.42857142857142855,\n",
       "   'name_sim_sw': 0.7058823529411765},\n",
       "  {'bkg_id': 359077,\n",
       "   'chain': '',\n",
       "   'chain_bkg': None,\n",
       "   'dist': 2.2682631553715407,\n",
       "   'leo_id': '1051736',\n",
       "   'name': u'Best Western Anaheim Sportstown',\n",
       "   'name_bkg': u'BEST WESTERN PLUS Raffles Inn and Suites',\n",
       "   'name_sim': 0.5185185185185185,\n",
       "   'name_sim_sw': 0.7058823529411765}])"
      ]
     },
     "execution_count": 6,
     "metadata": {},
     "output_type": "execute_result"
    }
   ],
   "source": [
    "candidates.items()[0]"
   ]
  },
  {
   "cell_type": "markdown",
   "metadata": {},
   "source": [
    "# 3. extract features"
   ]
  },
  {
   "cell_type": "code",
   "execution_count": 30,
   "metadata": {
    "collapsed": true
   },
   "outputs": [],
   "source": [
    "import itertools\n",
    "def concatenate(ll):\n",
    "    return list(itertools.chain.from_iterable(ll))"
   ]
  },
  {
   "cell_type": "code",
   "execution_count": 31,
   "metadata": {},
   "outputs": [],
   "source": [
    "mdf = pd.DataFrame(concatenate(candidates.values()))"
   ]
  },
  {
   "cell_type": "code",
   "execution_count": 32,
   "metadata": {},
   "outputs": [],
   "source": [
    "def norm_text(column):\n",
    "    return column.astype(unicode).fillna('').apply(normalize).astype(unicode)"
   ]
  },
  {
   "cell_type": "code",
   "execution_count": 33,
   "metadata": {
    "collapsed": true
   },
   "outputs": [],
   "source": [
    "def row_name_included(row):\n",
    "    n = normalize(row['name']).replace(' ', '')    \n",
    "    nb = normalize(row['name_bkg']).replace(' ', '')\n",
    "    if not n:\n",
    "        return False\n",
    "    if not nb:\n",
    "        return False\n",
    "    return (n in nb) or (nb in n)    \n",
    "\n",
    "def row_chain_included(row):\n",
    "    n = normalize(row['chain']).replace(' ', '')    \n",
    "    nb = normalize(row['chain_bkg']).replace(' ', '')\n",
    "    if not n:\n",
    "        return False\n",
    "    if not nb:\n",
    "        return False\n",
    "    return (n in nb) or (nb in n)\n",
    "\n",
    "def row_chain_sim(row):\n",
    "    return get_name_sim(row['chain'], row['chain_bkg'])\n",
    "\n",
    "def row_chain_sim_sw(row):\n",
    "    return get_name_sim(row['chain'], row['chain_bkg'], swap_words=True)"
   ]
  },
  {
   "cell_type": "markdown",
   "metadata": {},
   "source": [
    "# 4. use classifier to pick valid matches"
   ]
  },
  {
   "cell_type": "code",
   "execution_count": 34,
   "metadata": {
    "collapsed": true
   },
   "outputs": [],
   "source": [
    "from scipy.sparse import hstack"
   ]
  },
  {
   "cell_type": "code",
   "execution_count": 35,
   "metadata": {
    "collapsed": true
   },
   "outputs": [],
   "source": [
    "with open('rdf_matches.pickle','rb') as f:\n",
    "    clf = pickle.load(f)"
   ]
  },
  {
   "cell_type": "code",
   "execution_count": 36,
   "metadata": {
    "collapsed": true
   },
   "outputs": [],
   "source": [
    "def load_chain_encoders():\n",
    "    with open('chain_encoders.pickle', 'rb') as f:\n",
    "        le_chain, ohe, le_chain_bk, ohe_bk = pickle.load(f)\n",
    "    return le_chain, ohe, le_chain_bk, ohe_bk"
   ]
  },
  {
   "cell_type": "code",
   "execution_count": 37,
   "metadata": {
    "collapsed": true
   },
   "outputs": [],
   "source": [
    "def add_features(X):\n",
    "    for col in 'name name_bkg chain chain_bkg'.split():\n",
    "        X[col] = norm_text(X[col])\n",
    "    \n",
    "    X['name_included'] = X.apply(row_name_included, axis=1)\n",
    "    X['chain_included'] = X.apply(row_chain_included, axis=1)\n",
    "\n",
    "#     X['chain_sim'] = X.apply(row_chain_sim, axis=1)\n",
    "#     X['chain_sim_sw'] = X.apply(row_chain_sim_sw, axis=1)\n",
    "    # No chain names on this dataset\n",
    "    X['chain_sim'] = 0.0\n",
    "    X['chain_sim_sw'] = 0.0\n",
    "        \n",
    "    return X"
   ]
  },
  {
   "cell_type": "code",
   "execution_count": 38,
   "metadata": {},
   "outputs": [],
   "source": [
    "def pre_process(X):    \n",
    "    X.chain.fillna('', inplace=True)\n",
    "    X.chain_bkg.fillna('', inplace=True)\n",
    "    X.name.fillna('', inplace=True)\n",
    "    X.name_bkg.fillna('', inplace=True)\n",
    "    X.chain_included.fillna(False, inplace=True)\n",
    "    X.name_included.fillna(False, inplace=True)\n",
    "\n",
    "    Xnum = X[[u'dist', u'name_sim', u'name_sim_sw', u'chain_sim', u'chain_sim_sw',\n",
    "           u'name_included', u'chain_included']]\n",
    "\n",
    "    Xcat = X[[u'chain', u'chain_bkg']]\n",
    "\n",
    "    le_chain, ohe, le_chain_bk, ohe_bk = load_chain_encoders()\n",
    "    Xchain = le_chain.transform(X.chain)\n",
    "    Xchain = ohe.transform(Xchain.reshape(-1,1))\n",
    "\n",
    "    Xchain_bkg = le_chain_bk.transform(X.chain_bkg)\n",
    "    Xchain_bkg = ohe_bk.transform(Xchain_bkg.reshape(-1,1))\n",
    "\n",
    "    X = hstack((Xnum.astype(float), Xchain, Xchain_bkg))\n",
    "    \n",
    "    return X"
   ]
  },
  {
   "cell_type": "code",
   "execution_count": 40,
   "metadata": {},
   "outputs": [],
   "source": [
    "retrain_set = []\n",
    "retrain_labels = []\n",
    "matches = {}\n",
    "\n",
    "for leo_id, match_cands in candidates.items():\n",
    "    # filter candidates with classifier\n",
    "    if not match_cands:\n",
    "        continue\n",
    "    X = pd.DataFrame(match_cands)\n",
    "    X = add_features(X)\n",
    "    X['match'] = clf.predict(pre_process(X))\n",
    "    X = X[X.match == 1]\n",
    "    \n",
    "    ncands = X.shape[0]\n",
    "    \n",
    "    if ncands == 0:\n",
    "        match = None\n",
    "    elif ncands == 1:\n",
    "        match = X.iloc[0,:]\n",
    "    else:        \n",
    "        # pick best if many different\n",
    "        sums = {}\n",
    "        compare_cols = 'name_sim_sw name_included chain_included chain_sim_sw'.split()\n",
    "        for c in compare_cols:\n",
    "            sums[c] = X[c].sum()\n",
    "        sums['inv_dist'] = sum(1/d for d in X.dist.notnull())\n",
    "        \n",
    "        def score_row(row):\n",
    "            score = sum(row[c]/sums[c] for c in compare_cols if sums[c])\n",
    "            if row['dist']:\n",
    "                score += (1 / row['dist']) / sums['inv_dist']\n",
    "            else:\n",
    "                score += 1\n",
    "            return score\n",
    "        \n",
    "        X.score = X.apply(score_row, axis=1)\n",
    "        ind_max = X.score.argmax()\n",
    "        match = X.loc[ind_max,:]\n",
    "\n",
    "        # mark the 'losers' as non-matches for future re-training\n",
    "        for i in X.index:\n",
    "            if i != ind_max:\n",
    "                d = X.loc[i,:].to_dict()\n",
    "                retrain_set.append(d)\n",
    "                retrain_labels.append(0)\n",
    "    \n",
    "    if match is not None:\n",
    "        d = match.to_dict()\n",
    "        retrain_set.append(d)\n",
    "        retrain_labels.append(1)\n",
    "        matches[d['leo_id']] = d['bkg_id']"
   ]
  },
  {
   "cell_type": "markdown",
   "metadata": {},
   "source": [
    "## Explore matches"
   ]
  },
  {
   "cell_type": "code",
   "execution_count": 41,
   "metadata": {},
   "outputs": [
    {
     "data": {
      "text/plain": [
       "913"
      ]
     },
     "execution_count": 41,
     "metadata": {},
     "output_type": "execute_result"
    }
   ],
   "source": [
    "len(matches)"
   ]
  },
  {
   "cell_type": "code",
   "execution_count": 42,
   "metadata": {},
   "outputs": [
    {
     "data": {
      "text/plain": [
       "[{'bkg_id': 183208,\n",
       "  'chain': u'',\n",
       "  'chain_bkg': u'none',\n",
       "  'chain_included': False,\n",
       "  'chain_sim': 0.0,\n",
       "  'chain_sim_sw': 0.0,\n",
       "  'dist': 0.17170930307355864,\n",
       "  'leo_id': '1050526',\n",
       "  'match': 1.0,\n",
       "  'name': u'radisson rochester ap',\n",
       "  'name_bkg': u'radisson rochester ap',\n",
       "  'name_included': True,\n",
       "  'name_sim': 1.0,\n",
       "  'name_sim_sw': 1.0},\n",
       " {'bkg_id': 1484917,\n",
       "  'chain': u'',\n",
       "  'chain_bkg': u'none',\n",
       "  'chain_included': False,\n",
       "  'chain_sim': 0.0,\n",
       "  'chain_sim_sw': 0.0,\n",
       "  'dist': 0.65591960151953865,\n",
       "  'leo_id': '1051256',\n",
       "  'match': 1.0,\n",
       "  'name': u'nai harn',\n",
       "  'name_bkg': u'nai harn',\n",
       "  'name_included': True,\n",
       "  'name_sim': 1.0,\n",
       "  'name_sim_sw': 1.0},\n",
       " {'bkg_id': 46199,\n",
       "  'chain': u'',\n",
       "  'chain_bkg': u'none',\n",
       "  'chain_included': False,\n",
       "  'chain_sim': 0.0,\n",
       "  'chain_sim_sw': 0.0,\n",
       "  'dist': 0.062120032726664956,\n",
       "  'leo_id': '1050559',\n",
       "  'match': 1.0,\n",
       "  'name': u'comfort inn gatineau',\n",
       "  'name_bkg': u'comfort inn gatineau',\n",
       "  'name_included': True,\n",
       "  'name_sim': 1.0,\n",
       "  'name_sim_sw': 1.0},\n",
       " {'bkg_id': 301228,\n",
       "  'chain': u'',\n",
       "  'chain_bkg': u'none',\n",
       "  'chain_included': False,\n",
       "  'chain_sim': 0.0,\n",
       "  'chain_sim_sw': 0.0,\n",
       "  'dist': 0.29202689405300392,\n",
       "  'leo_id': '1050339',\n",
       "  'match': 1.0,\n",
       "  'name': u'country inn ste carlson pella',\n",
       "  'name_bkg': u'country inn ste carlson pella',\n",
       "  'name_included': True,\n",
       "  'name_sim': 1.0,\n",
       "  'name_sim_sw': 1.0},\n",
       " {'bkg_id': 19220,\n",
       "  'chain': u'',\n",
       "  'chain_bkg': u'none',\n",
       "  'chain_included': False,\n",
       "  'chain_sim': 0.0,\n",
       "  'chain_sim_sw': 0.0,\n",
       "  'dist': 3.7532086673832947,\n",
       "  'leo_id': '1051802',\n",
       "  'match': 1.0,\n",
       "  'name': u'windjammer landing',\n",
       "  'name_bkg': u'windjammer landing',\n",
       "  'name_included': True,\n",
       "  'name_sim': 1.0,\n",
       "  'name_sim_sw': 1.0},\n",
       " {'bkg_id': 36639,\n",
       "  'chain': u'',\n",
       "  'chain_bkg': u'none',\n",
       "  'chain_included': False,\n",
       "  'chain_sim': 0.0,\n",
       "  'chain_sim_sw': 0.0,\n",
       "  'dist': 0.03099179412284267,\n",
       "  'leo_id': '1051092',\n",
       "  'match': 1.0,\n",
       "  'name': u'radisson blu portman london',\n",
       "  'name_bkg': u'',\n",
       "  'name_included': False,\n",
       "  'name_sim': 0.0,\n",
       "  'name_sim_sw': 1.0},\n",
       " {'bkg_id': 182703,\n",
       "  'chain': u'',\n",
       "  'chain_bkg': u'holiday inn',\n",
       "  'chain_included': False,\n",
       "  'chain_sim': 0.0,\n",
       "  'chain_sim_sw': 0.0,\n",
       "  'dist': 0.11192401571650969,\n",
       "  'leo_id': '1051394',\n",
       "  'match': 1.0,\n",
       "  'name': u'holiday inn ste',\n",
       "  'name_bkg': u'holiday inn ste scottsdale old town',\n",
       "  'name_included': True,\n",
       "  'name_sim': 0.59999999999999998,\n",
       "  'name_sim_sw': 1.0},\n",
       " {'bkg_id': 56479,\n",
       "  'chain': u'',\n",
       "  'chain_bkg': u'none',\n",
       "  'chain_included': False,\n",
       "  'chain_sim': 0.0,\n",
       "  'chain_sim_sw': 0.0,\n",
       "  'dist': 0.017666810445403577,\n",
       "  'leo_id': '1050386',\n",
       "  'match': 1.0,\n",
       "  'name': u'windsor',\n",
       "  'name_bkg': u'windsor ste philadelphia',\n",
       "  'name_included': True,\n",
       "  'name_sim': 0.45161290322580644,\n",
       "  'name_sim_sw': 0.83333333333333337},\n",
       " {'bkg_id': 268351,\n",
       "  'chain': u'',\n",
       "  'chain_bkg': u'none',\n",
       "  'chain_included': False,\n",
       "  'chain_sim': 0.0,\n",
       "  'chain_sim_sw': 0.0,\n",
       "  'dist': 0.25797965301995296,\n",
       "  'leo_id': '1051211',\n",
       "  'match': 1.0,\n",
       "  'name': u'clearwater marriott ste sand key',\n",
       "  'name_bkg': u'clearwater marriott ste sand key',\n",
       "  'name_included': True,\n",
       "  'name_sim': 1.0,\n",
       "  'name_sim_sw': 1.0},\n",
       " {'bkg_id': 45478,\n",
       "  'chain': u'',\n",
       "  'chain_bkg': u'none',\n",
       "  'chain_included': False,\n",
       "  'chain_sim': 0.0,\n",
       "  'chain_sim_sw': 0.0,\n",
       "  'dist': 0.040050194041169128,\n",
       "  'leo_id': '1050853',\n",
       "  'match': 1.0,\n",
       "  'name': u'monaco #8482 chicago kimpton',\n",
       "  'name_bkg': u'kimpton monaco chicago',\n",
       "  'name_included': False,\n",
       "  'name_sim': 0.56000000000000005,\n",
       "  'name_sim_sw': 1.0}]"
      ]
     },
     "execution_count": 42,
     "metadata": {},
     "output_type": "execute_result"
    }
   ],
   "source": [
    "match_details = [d for i, d in enumerate(retrain_set) if retrain_labels[i]]\n",
    "from random import sample\n",
    "sample(match_details, 10)"
   ]
  },
  {
   "cell_type": "markdown",
   "metadata": {},
   "source": [
    "# 5. filter matches with selected ids"
   ]
  },
  {
   "cell_type": "code",
   "execution_count": 43,
   "metadata": {
    "collapsed": true
   },
   "outputs": [],
   "source": [
    "with open('bkgids.txt') as f:\n",
    "    bkgids = [int(l.strip()) for l in f.readlines()]\n",
    "\n",
    "filtered_matches = {lid: bid for (lid, bid) in matches.items() if bid in bkgids}"
   ]
  },
  {
   "cell_type": "code",
   "execution_count": 44,
   "metadata": {},
   "outputs": [
    {
     "data": {
      "text/plain": [
       "49"
      ]
     },
     "execution_count": 44,
     "metadata": {},
     "output_type": "execute_result"
    }
   ],
   "source": [
    "len(filtered_matches)"
   ]
  },
  {
   "cell_type": "code",
   "execution_count": null,
   "metadata": {
    "collapsed": true
   },
   "outputs": [],
   "source": [
    "match_details = [d for i, d in enumerate(retrain_set) \\\n",
    "                     if retrain_labels[i] and\\\n",
    "                     d['bkg_id'] in bkgids]"
   ]
  },
  {
   "cell_type": "code",
   "execution_count": 50,
   "metadata": {
    "collapsed": true
   },
   "outputs": [],
   "source": [
    "detail_fields = 'bkg_id leo_id name name_bkg dist name_sim name_sim_sw'.split()\n",
    "match_details = [{k: d[k] for k in detail_fields} for d in match_details]"
   ]
  },
  {
   "cell_type": "code",
   "execution_count": 51,
   "metadata": {},
   "outputs": [
    {
     "data": {
      "text/plain": [
       "49"
      ]
     },
     "execution_count": 51,
     "metadata": {},
     "output_type": "execute_result"
    }
   ],
   "source": [
    "len(match_details)"
   ]
  },
  {
   "cell_type": "code",
   "execution_count": 52,
   "metadata": {},
   "outputs": [
    {
     "data": {
      "text/plain": [
       "{'bkg_id': 25477,\n",
       " 'dist': 0.48955903850312055,\n",
       " 'leo_id': '1050813',\n",
       " 'name': u'phoenician luxury collection scottsdale',\n",
       " 'name_bkg': u'scottsdale camelback',\n",
       " 'name_sim': 0.33898305084745761,\n",
       " 'name_sim_sw': 0.82608695652173914}"
      ]
     },
     "execution_count": 52,
     "metadata": {},
     "output_type": "execute_result"
    }
   ],
   "source": [
    "match_details[0]"
   ]
  },
  {
   "cell_type": "code",
   "execution_count": 53,
   "metadata": {},
   "outputs": [],
   "source": [
    "with open('match_details.json', 'w') as f:\n",
    "    json.dump(match_details, f)"
   ]
  }
 ],
 "metadata": {
  "kernelspec": {
   "display_name": "Python 3",
   "language": "python",
   "name": "python3"
  },
  "language_info": {
   "codemirror_mode": {
    "name": "ipython",
    "version": 3
   },
   "file_extension": ".py",
   "mimetype": "text/x-python",
   "name": "python",
   "nbconvert_exporter": "python",
   "pygments_lexer": "ipython3",
   "version": "3.5.2"
  }
 },
 "nbformat": 4,
 "nbformat_minor": 1
}
